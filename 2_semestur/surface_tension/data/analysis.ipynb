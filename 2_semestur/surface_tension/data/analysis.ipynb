{
 "cells": [
  {
   "cell_type": "code",
   "execution_count": 14,
   "metadata": {},
   "outputs": [],
   "source": [
    "\n",
    "import os\n",
    "import numpy as np\n",
    "import pandas as pd\n",
    "import matplotlib.pyplot as plt\n",
    "import seaborn as sns\n",
    "preamble = \"\"\"\\\\usepackage[T2A]{fontenc}\n",
    "\\\\usepackage[utf8]{inputenc}\n",
    "\\\\usepackage[bulgarian]{babel}\n",
    "\\\\usepackage[]{siunitx}\"\"\"\n",
    "LaTeX = {\n",
    "    \"text.usetex\": True,\n",
    "    \"font.family\": \"serif\",\n",
    "    \"text.latex.preamble\": preamble\n",
    "}\n",
    "plt.rcParams.update(LaTeX)\n",
    "\n",
    "# очевидно това е размера на шрифта без значение какъв е той\n",
    "plt.rcParams[\"font.size\"] = 20\n",
    "from uncertainties import ufloat"
   ]
  },
  {
   "cell_type": "code",
   "execution_count": 15,
   "metadata": {},
   "outputs": [],
   "source": [
    "data = pd.DataFrame(pd.read_csv(\"surface_tension.csv\"))\n",
    "\n",
    "data = data.iloc[1:10, :7].astype(float)\n",
    "\n",
    "rho = ufloat(997, 0.1)\n",
    "g = ufloat(9.81, 0.01)\n",
    "R = ufloat(0.563, 0.001) * 1/2000 \n"
   ]
  },
  {
   "cell_type": "code",
   "execution_count": 16,
   "metadata": {},
   "outputs": [
    {
     "ename": "AttributeError",
     "evalue": "'float' object has no attribute 'strip'",
     "output_type": "error",
     "traceback": [
      "\u001b[0;31m---------------------------------------------------------------------------\u001b[0m",
      "\u001b[0;31mTypeError\u001b[0m                                 Traceback (most recent call last)",
      "\u001b[0;32m~/earth-analytics-parent/earth-analytics/conda-env/lib/python3.9/site-packages/uncertainties/core.py\u001b[0m in \u001b[0;36mufloat\u001b[0;34m(nominal_value, std_dev, tag)\u001b[0m\n\u001b[1;32m   3294\u001b[0m         \u001b[0;31m# Standard case:\u001b[0m\u001b[0;34m\u001b[0m\u001b[0;34m\u001b[0m\u001b[0m\n\u001b[0;32m-> 3295\u001b[0;31m         \u001b[0;32mreturn\u001b[0m \u001b[0mVariable\u001b[0m\u001b[0;34m(\u001b[0m\u001b[0mnominal_value\u001b[0m\u001b[0;34m,\u001b[0m \u001b[0mstd_dev\u001b[0m\u001b[0;34m,\u001b[0m \u001b[0mtag\u001b[0m\u001b[0;34m=\u001b[0m\u001b[0mtag\u001b[0m\u001b[0;34m)\u001b[0m\u001b[0;34m\u001b[0m\u001b[0;34m\u001b[0m\u001b[0m\n\u001b[0m\u001b[1;32m   3296\u001b[0m     \u001b[0;31m# Exception types raised by, respectively: tuple or string that\u001b[0m\u001b[0;34m\u001b[0m\u001b[0;34m\u001b[0m\u001b[0m\n",
      "\u001b[0;32m~/earth-analytics-parent/earth-analytics/conda-env/lib/python3.9/site-packages/uncertainties/core.py\u001b[0m in \u001b[0;36m__init__\u001b[0;34m(self, value, std_dev, tag)\u001b[0m\n\u001b[1;32m   2775\u001b[0m \u001b[0;34m\u001b[0m\u001b[0m\n\u001b[0;32m-> 2776\u001b[0;31m         \u001b[0mself\u001b[0m\u001b[0;34m.\u001b[0m\u001b[0mstd_dev\u001b[0m \u001b[0;34m=\u001b[0m \u001b[0mstd_dev\u001b[0m  \u001b[0;31m# Assignment through a Python property\u001b[0m\u001b[0;34m\u001b[0m\u001b[0;34m\u001b[0m\u001b[0m\n\u001b[0m\u001b[1;32m   2777\u001b[0m \u001b[0;34m\u001b[0m\u001b[0m\n",
      "\u001b[0;32m~/earth-analytics-parent/earth-analytics/conda-env/lib/python3.9/site-packages/uncertainties/core.py\u001b[0m in \u001b[0;36mstd_dev\u001b[0;34m(self, std_dev)\u001b[0m\n\u001b[1;32m   2795\u001b[0m         \u001b[0;31m# should work on most platforms.)\u001b[0m\u001b[0;34m\u001b[0m\u001b[0;34m\u001b[0m\u001b[0m\n\u001b[0;32m-> 2796\u001b[0;31m         \u001b[0;32mif\u001b[0m \u001b[0mstd_dev\u001b[0m \u001b[0;34m<\u001b[0m \u001b[0;36m0\u001b[0m \u001b[0;32mand\u001b[0m \u001b[0;32mnot\u001b[0m \u001b[0misinfinite\u001b[0m\u001b[0;34m(\u001b[0m\u001b[0mstd_dev\u001b[0m\u001b[0;34m)\u001b[0m\u001b[0;34m:\u001b[0m\u001b[0;34m\u001b[0m\u001b[0;34m\u001b[0m\u001b[0m\n\u001b[0m\u001b[1;32m   2797\u001b[0m             \u001b[0;32mraise\u001b[0m \u001b[0mNegativeStdDev\u001b[0m\u001b[0;34m(\u001b[0m\u001b[0;34m\"The standard deviation cannot be negative\"\u001b[0m\u001b[0;34m)\u001b[0m\u001b[0;34m\u001b[0m\u001b[0;34m\u001b[0m\u001b[0m\n",
      "\u001b[0;31mTypeError\u001b[0m: '<' not supported between instances of 'NoneType' and 'int'",
      "\nDuring handling of the above exception, another exception occurred:\n",
      "\u001b[0;31mAttributeError\u001b[0m                            Traceback (most recent call last)",
      "\u001b[0;32m/tmp/ipykernel_16199/1045856192.py\u001b[0m in \u001b[0;36m<module>\u001b[0;34m\u001b[0m\n\u001b[1;32m      4\u001b[0m \u001b[0mcoeffs\u001b[0m \u001b[0;34m=\u001b[0m \u001b[0;34m{\u001b[0m\u001b[0mkey\u001b[0m\u001b[0;34m:\u001b[0m \u001b[0mrho\u001b[0m\u001b[0;34m*\u001b[0m\u001b[0mg\u001b[0m\u001b[0;34m*\u001b[0m\u001b[0mR\u001b[0m\u001b[0;34m*\u001b[0m\u001b[0mufloat\u001b[0m\u001b[0;34m(\u001b[0m\u001b[0maverage\u001b[0m\u001b[0;34m[\u001b[0m\u001b[0mkey\u001b[0m\u001b[0;34m]\u001b[0m\u001b[0;34m,\u001b[0m \u001b[0merrors\u001b[0m\u001b[0;34m[\u001b[0m\u001b[0mkey\u001b[0m\u001b[0;34m]\u001b[0m\u001b[0;34m)\u001b[0m\u001b[0;34m/\u001b[0m\u001b[0;36m2\u001b[0m \u001b[0;32mfor\u001b[0m \u001b[0mkey\u001b[0m \u001b[0;32min\u001b[0m \u001b[0mdata\u001b[0m\u001b[0;34m.\u001b[0m\u001b[0mcolumns\u001b[0m\u001b[0;34m}\u001b[0m\u001b[0;34m\u001b[0m\u001b[0;34m\u001b[0m\u001b[0m\n\u001b[1;32m      5\u001b[0m \u001b[0;34m\u001b[0m\u001b[0m\n\u001b[0;32m----> 6\u001b[0;31m \u001b[0mB\u001b[0m \u001b[0;34m=\u001b[0m \u001b[0;36m1\u001b[0m\u001b[0;34m/\u001b[0m\u001b[0;36m1000\u001b[0m\u001b[0;34m*\u001b[0m\u001b[0;36m72.75\u001b[0m\u001b[0;34m/\u001b[0m\u001b[0;34m(\u001b[0m\u001b[0;36m1\u001b[0m\u001b[0;34m/\u001b[0m\u001b[0;36m1000\u001b[0m\u001b[0;34m*\u001b[0m\u001b[0mufloat\u001b[0m\u001b[0;34m(\u001b[0m\u001b[0maverage\u001b[0m\u001b[0;34m[\u001b[0m\u001b[0;34m'h2o dest'\u001b[0m\u001b[0;34m]\u001b[0m\u001b[0;34m)\u001b[0m\u001b[0;34m,\u001b[0m \u001b[0merrors\u001b[0m\u001b[0;34m[\u001b[0m\u001b[0;34m'h2o dest'\u001b[0m\u001b[0;34m]\u001b[0m\u001b[0;34m)\u001b[0m\u001b[0;34m\u001b[0m\u001b[0;34m\u001b[0m\u001b[0m\n\u001b[0m\u001b[1;32m      7\u001b[0m \u001b[0mprint\u001b[0m\u001b[0;34m(\u001b[0m\u001b[0;34mf\"B: {B} si\"\u001b[0m\u001b[0;34m)\u001b[0m\u001b[0;34m\u001b[0m\u001b[0;34m\u001b[0m\u001b[0m\n\u001b[1;32m      8\u001b[0m \u001b[0mplt\u001b[0m\u001b[0;34m.\u001b[0m\u001b[0mfigure\u001b[0m\u001b[0;34m(\u001b[0m\u001b[0mfigsize\u001b[0m\u001b[0;34m=\u001b[0m\u001b[0;34m(\u001b[0m\u001b[0;36m10\u001b[0m\u001b[0;34m,\u001b[0m \u001b[0;36m10\u001b[0m\u001b[0;34m)\u001b[0m\u001b[0;34m)\u001b[0m\u001b[0;34m\u001b[0m\u001b[0;34m\u001b[0m\u001b[0m\n",
      "\u001b[0;32m~/earth-analytics-parent/earth-analytics/conda-env/lib/python3.9/site-packages/uncertainties/core.py\u001b[0m in \u001b[0;36mufloat\u001b[0;34m(nominal_value, std_dev, tag)\u001b[0m\n\u001b[1;32m   3306\u001b[0m \u001b[0;34m\u001b[0m\u001b[0m\n\u001b[1;32m   3307\u001b[0m         \u001b[0;32mtry\u001b[0m\u001b[0;34m:\u001b[0m\u001b[0;34m\u001b[0m\u001b[0;34m\u001b[0m\u001b[0m\n\u001b[0;32m-> 3308\u001b[0;31m             \u001b[0mfinal_ufloat\u001b[0m \u001b[0;34m=\u001b[0m \u001b[0mufloat_obsolete\u001b[0m\u001b[0;34m(\u001b[0m\u001b[0mnominal_value\u001b[0m\u001b[0;34m,\u001b[0m \u001b[0mtag_arg\u001b[0m\u001b[0;34m)\u001b[0m\u001b[0;34m\u001b[0m\u001b[0;34m\u001b[0m\u001b[0m\n\u001b[0m\u001b[1;32m   3309\u001b[0m         \u001b[0;32mexcept\u001b[0m\u001b[0;34m:\u001b[0m  \u001b[0;31m# The input is incorrect, not obsolete\u001b[0m\u001b[0;34m\u001b[0m\u001b[0;34m\u001b[0m\u001b[0m\n\u001b[1;32m   3310\u001b[0m             \u001b[0;32mraise\u001b[0m\u001b[0;34m\u001b[0m\u001b[0;34m\u001b[0m\u001b[0m\n",
      "\u001b[0;32m~/earth-analytics-parent/earth-analytics/conda-env/lib/python3.9/site-packages/uncertainties/core.py\u001b[0m in \u001b[0;36mufloat_obsolete\u001b[0;34m(representation, tag)\u001b[0m\n\u001b[1;32m   3249\u001b[0m         \u001b[0;32mreturn\u001b[0m \u001b[0mufloat\u001b[0m\u001b[0;34m(\u001b[0m\u001b[0mrepresentation\u001b[0m\u001b[0;34m[\u001b[0m\u001b[0;36m0\u001b[0m\u001b[0;34m]\u001b[0m\u001b[0;34m,\u001b[0m \u001b[0mrepresentation\u001b[0m\u001b[0;34m[\u001b[0m\u001b[0;36m1\u001b[0m\u001b[0;34m]\u001b[0m\u001b[0;34m,\u001b[0m \u001b[0mtag\u001b[0m\u001b[0;34m)\u001b[0m\u001b[0;34m\u001b[0m\u001b[0;34m\u001b[0m\u001b[0m\n\u001b[1;32m   3250\u001b[0m     \u001b[0;32melse\u001b[0m\u001b[0;34m:\u001b[0m\u001b[0;34m\u001b[0m\u001b[0;34m\u001b[0m\u001b[0m\n\u001b[0;32m-> 3251\u001b[0;31m         \u001b[0;32mreturn\u001b[0m \u001b[0mufloat_fromstr\u001b[0m\u001b[0;34m(\u001b[0m\u001b[0mrepresentation\u001b[0m\u001b[0;34m,\u001b[0m \u001b[0mtag\u001b[0m\u001b[0;34m)\u001b[0m\u001b[0;34m\u001b[0m\u001b[0;34m\u001b[0m\u001b[0m\n\u001b[0m\u001b[1;32m   3252\u001b[0m \u001b[0;34m\u001b[0m\u001b[0m\n\u001b[1;32m   3253\u001b[0m \u001b[0;31m# The arguments are named for the new version, instead of bearing\u001b[0m\u001b[0;34m\u001b[0m\u001b[0;34m\u001b[0m\u001b[0m\n",
      "\u001b[0;32m~/earth-analytics-parent/earth-analytics/conda-env/lib/python3.9/site-packages/uncertainties/core.py\u001b[0m in \u001b[0;36mufloat_fromstr\u001b[0;34m(representation, tag)\u001b[0m\n\u001b[1;32m   3233\u001b[0m \u001b[0;34m\u001b[0m\u001b[0m\n\u001b[1;32m   3234\u001b[0m     (nominal_value, std_dev) = str_to_number_with_uncert(\n\u001b[0;32m-> 3235\u001b[0;31m         representation.strip())\n\u001b[0m\u001b[1;32m   3236\u001b[0m \u001b[0;34m\u001b[0m\u001b[0m\n\u001b[1;32m   3237\u001b[0m     \u001b[0;32mreturn\u001b[0m \u001b[0mufloat\u001b[0m\u001b[0;34m(\u001b[0m\u001b[0mnominal_value\u001b[0m\u001b[0;34m,\u001b[0m \u001b[0mstd_dev\u001b[0m\u001b[0;34m,\u001b[0m \u001b[0mtag\u001b[0m\u001b[0;34m)\u001b[0m\u001b[0;34m\u001b[0m\u001b[0;34m\u001b[0m\u001b[0m\n",
      "\u001b[0;31mAttributeError\u001b[0m: 'float' object has no attribute 'strip'"
     ]
    }
   ],
   "source": [
    "col_lengths = data.notnull().sum()\n",
    "average = {key: data[key].mean()/1000 for key in data.columns}\n",
    "errors = {key: (1/1000**2 + (2*data[key].std()/1000)**2/col_lengths[key])**0.5  for key in data.columns}\n",
    "coeffs = {key: rho*g*R*ufloat(average[key], errors[key])/2 for key in data.columns}\n",
    "\n",
    "B = 1/1000*72.75/(1/1000*ufloat(average['h2o dest'], errors['h2o dest']))\n",
    "print(f\"B: {B} si\")\n",
    "plt.figure(figsize=(10, 10))\n",
    "print(coeffs['h2o dest'])\n",
    "columns = [\n",
    "    \"$H_2 O$\", \n",
    "    \"$10\\%$\",\n",
    "    \"$20\\%$\",\n",
    "    \"$30\\%$\",\n",
    "    \"$40\\%$\",\n",
    "    \"$50\\%$\",\n",
    "    \"$X\\%$\",\n",
    "]\n",
    "\n",
    "fig, ax = plt.subplots(figsize=(10, 10))\n",
    "\n",
    "bars = ax.bar(x=columns, height=[1000*coeffs[k].nominal_value for k in data.columns], yerr=[1000*coeffs[k].std_dev for k in data.columns])\n",
    "ax.bar_label(bars, fmt=\"%.2f\")\n",
    "plt.ylabel(\"$\\sigma, \\ \\si{mJ m^{-2}}$\")\n"
   ]
  },
  {
   "cell_type": "code",
   "execution_count": 8,
   "metadata": {},
   "outputs": [
    {
     "name": "stdout",
     "output_type": "stream",
     "text": [
      "[0.07403130778999999, 0.05552348084249999, 0.05322912212999998, 0.05093476341749999, 0.03854522636999999, 0.03166215023249999]\n",
      "[-7.76116403981479e-07, 6.13771304253967e-05, -0.0019790563652724857, 0.03167274652158735]\n",
      "[41.24830029 +0.j         18.91703859+25.12970625j\n",
      " 18.91703859-25.12970625j]\n"
     ]
    },
    {
     "data": {
      "image/png": "[encoded data removed]",
      "text/plain": [
       "<Figure size 432x288 with 1 Axes>"
      ]
     },
     "metadata": {
      "needs_background": "light"
     },
     "output_type": "display_data"
    }
   ],
   "source": [
    "xs = [0, 10, 20, 30, 40, 50]\n",
    "ys = [coeffs[col].nominal_value for col in data.columns[:-1]]\n",
    "print(ys)\n",
    "\n",
    "degree = 3\n",
    "poly_coeffs = np.polyfit(xs, ys, deg=degree)\n",
    "\n",
    "plt.scatter(xs, ys)\n",
    "new_xs = np.linspace(start=0, stop=50, num=100)\n",
    "plt.plot(new_xs, [sum([poly_coeffs[i]*x**(degree-i) for i in range(degree + 1)]) for x in new_xs])\n",
    "new_coeffs = list(poly_coeffs[:-1])\n",
    "new_coeffs.append(poly_coeffs[-1] - 41.3/1000)\n",
    "print(new_coeffs)\n",
    "print(np.roots(new_coeffs))"
   ]
  },
  {
   "cell_type": "code",
   "execution_count": null,
   "metadata": {},
   "outputs": [],
   "source": []
  },
  {
   "cell_type": "code",
   "execution_count": null,
   "metadata": {},
   "outputs": [],
   "source": []
  }
 ],
 "metadata": {
  "interpreter": {
   "hash": "18f423941bc9d114fae7f04d212a56739c178c1e988574dac5cc94b8a9db688c"
  },
  "kernelspec": {
   "display_name": "Python 3.9.7",
   "language": "python",
   "name": "python3"
  },
  "language_info": {
   "codemirror_mode": {
    "name": "ipython",
    "version": 3
   },
   "file_extension": ".py",
   "mimetype": "text/x-python",
   "name": "python",
   "nbconvert_exporter": "python",
   "pygments_lexer": "ipython3",
   "version": "3.9.7"
  },
  "orig_nbformat": 4
 },
 "nbformat": 4,
 "nbformat_minor": 2
}
