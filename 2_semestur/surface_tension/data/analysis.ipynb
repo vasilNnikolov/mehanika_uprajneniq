{
 "cells": [
  {
   "cell_type": "code",
   "execution_count": 14,
   "metadata": {},
   "outputs": [],
   "source": [
    "\n",
    "import os\n",
    "import numpy as np\n",
    "import pandas as pd\n",
    "import matplotlib.pyplot as plt\n",
    "import seaborn as sns\n",
    "preamble = \"\"\"\\\\usepackage[T2A]{fontenc}\n",
    "\\\\usepackage[utf8]{inputenc}\n",
    "\\\\usepackage[bulgarian]{babel}\n",
    "\\\\usepackage[]{siunitx}\"\"\"\n",
    "LaTeX = {\n",
    "    \"text.usetex\": True,\n",
    "    \"font.family\": \"serif\",\n",
    "    \"text.latex.preamble\": preamble\n",
    "}\n",
    "plt.rcParams.update(LaTeX)\n",
    "\n",
    "# очевидно това е размера на шрифта без значение какъв е той\n",
    "plt.rcParams[\"font.size\"] = 20\n",
    "from uncertainties import ufloat"
   ]
  },
  {
   "cell_type": "code",
   "execution_count": 4,
   "metadata": {},
   "outputs": [],
   "source": [
    "data = pd.DataFrame(pd.read_csv(\"surface_tension.csv\"))\n",
    "\n",
    "data = data.iloc[1:10, :7].astype(float)\n",
    "\n",
    "rho = ufloat(997, 0.1)\n",
    "g = ufloat(9.81, 0.01)\n",
    "R = ufloat(0.563, 0.001) * 1/2000 "
   ]
  },
  {
   "cell_type": "code",
   "execution_count": 19,
   "metadata": {},
   "outputs": [
    {
     "data": {
      "text/plain": [
       "Text(0, 0.5, '$\\\\sigma, \\\\ \\\\si{mJ m^{-2}}$')"
      ]
     },
     "execution_count": 19,
     "metadata": {},
     "output_type": "execute_result"
    },
    {
     "data": {
      "text/plain": [
       "<Figure size 720x720 with 0 Axes>"
      ]
     },
     "metadata": {},
     "output_type": "display_data"
    },
    {
     "data": {
      "image/png": "[encoded data removed]",
      "text/plain": [
       "<Figure size 720x720 with 1 Axes>"
      ]
     },
     "metadata": {
      "needs_background": "light"
     },
     "output_type": "display_data"
    }
   ],
   "source": [
    "col_lengths = data.notnull().sum()\n",
    "average = {key: data[key].mean()/1000 for key in data.columns}\n",
    "errors = {key: (1/1000**2 + (data[key].std()/1000)**2/col_lengths[key])**0.5  for key in data.columns}\n",
    "coeffs = {key: rho*g*R*ufloat(average[key], errors[key])/2 for key in data.columns}\n",
    "plt.figure(figsize=(10, 10))\n",
    "\n",
    "columns = [\n",
    "    \"$H_2 O$\", \n",
    "    \"$10\\%$\",\n",
    "    \"$20\\%$\",\n",
    "    \"$30\\%$\",\n",
    "    \"$40\\%$\",\n",
    "    \"$50\\%$\",\n",
    "    \"$X\\%$\",\n",
    "]\n",
    "fig, ax = plt.subplots(figsize=(10, 10))\n",
    "\n",
    "bars = ax.bar(x=columns, height=[1000*coeffs[k].nominal_value for k in data.columns], yerr=[1000*coeffs[k].std_dev for k in data.columns])\n",
    "ax.bar_label(bars, fmt=\"%.2f\")\n",
    "plt.ylabel(\"$\\sigma, \\ \\si{mJ m^{-2}}$\")\n"
   ]
  },
  {
   "cell_type": "code",
   "execution_count": null,
   "metadata": {},
   "outputs": [],
   "source": []
  },
  {
   "cell_type": "code",
   "execution_count": null,
   "metadata": {},
   "outputs": [],
   "source": []
  }
 ],
 "metadata": {
  "interpreter": {
   "hash": "18f423941bc9d114fae7f04d212a56739c178c1e988574dac5cc94b8a9db688c"
  },
  "kernelspec": {
   "display_name": "Python 3.9.7",
   "language": "python",
   "name": "python3"
  },
  "language_info": {
   "codemirror_mode": {
    "name": "ipython",
    "version": 3
   },
   "file_extension": ".py",
   "mimetype": "text/x-python",
   "name": "python",
   "nbconvert_exporter": "python",
   "pygments_lexer": "ipython3",
   "version": "3.9.7"
  },
  "orig_nbformat": 4
 },
 "nbformat": 4,
 "nbformat_minor": 2
}
